{
  "nbformat": 4,
  "nbformat_minor": 0,
  "metadata": {
    "colab": {
      "provenance": []
    },
    "kernelspec": {
      "name": "python3",
      "display_name": "Python 3"
    },
    "language_info": {
      "name": "python"
    }
  },
  "cells": [
    {
      "cell_type": "code",
      "execution_count": 21,
      "metadata": {
        "colab": {
          "base_uri": "https://localhost:8080/"
        },
        "id": "1GpH1hmA1cTr",
        "outputId": "e6ff8fb1-1cbd-4e67-981d-fdfd3f9a179e"
      },
      "outputs": [
        {
          "output_type": "stream",
          "name": "stdout",
          "text": [
            "Requirement already satisfied: pulp in /usr/local/lib/python3.11/dist-packages (2.9.0)\n",
            "Status: Optimal\n",
            "Optimal servings:\n",
            "Chicken (X1): 0.0 servings\n",
            "Almonds (X2): 101.81818 servings\n",
            "Rice (X3): 67.171717 servings\n",
            "Mole Sauce (X4): 0.0 servings\n",
            "Greek Yogurt (X5): 70.0 servings\n",
            "Total Cost: $56.72\n"
          ]
        }
      ],
      "source": [
        "!pip install pulp\n",
        "import pulp\n",
        "\n",
        "# Create a linear programming problem (minimize the diet cost)\n",
        "prob = pulp.LpProblem(\"Diet_Cost_Optimization\", pulp.LpMinimize)\n",
        "\n",
        "# Define the decision variables (number of servings for each food item)\n",
        "X1 = pulp.LpVariable('X1', lowBound=0, cat='Continuous')  # Chicken\n",
        "X2 = pulp.LpVariable('X2', lowBound=0, cat='Continuous')  # Almonds\n",
        "X3 = pulp.LpVariable('X3', lowBound=0, cat='Continuous')  # Rice\n",
        "X4 = pulp.LpVariable('X4', lowBound=0, cat='Continuous')  # Mole Sauce\n",
        "X5 = pulp.LpVariable('X5', lowBound=0, cat='Continuous')  # Greek Yogurt\n",
        "\n",
        "# Objective function: Minimize total cost\n",
        "prob += 0.79 * X1 + 0.02 * X2 + 0.0013 * X3 + 0.4 * X4 + 0.78 * X5, \"Total Cost\"\n",
        "\n",
        "# Constraints:\n",
        "\n",
        "# Daily Sodium: 260X1 + 280X4 + 55X5 <= 5000 mg\n",
        "prob += 260 * X1  + 280 * X4 + 55 * X5 <= (5000*7), \"Sodium Constraint\"\n",
        "\n",
        "# Daily Energy: 90X1 + 170X2 + 160X3 + 150X4 + 90X5 >= 2000 Calories\n",
        "prob += 90 * X1 + 170 * X2 + 160 * X3 + 150 * X4 + 90 * X5 >= (2000*7), \"Energy Constraint\"\n",
        "\n",
        "# Daily Protein constraint: 21X1 + 6X2 + 3X3 + 3X4 + 15X5 >= 50g\n",
        "prob += 21 * X1 + 6 * X2 + 3 * X3 + 3 * X4 + 15 * X5 >= (50*7), \"Protein Constraint\"\n",
        "\n",
        "# Daily Vitamin D constraint: 0.1X1 +  2X5 >= 20 mcg\n",
        "prob += 0.1 * X1  + 2 * X5 >= (20*7), \"Vitamin D Constraint\"\n",
        "\n",
        "# Daily Calcium constraint: 10X1 + 80X2 + 150X5 >= 1300 mg\n",
        "prob += 10 * X1 + 80 * X2 + 150 * X5 >= (1300*7), \"Calcium Constraint\"\n",
        "\n",
        "# Daily Iron constraint: 0.4X1 + 1X2 + 0.36X3  >= 18 mg\n",
        "prob += 0.4 * X1 + 1 * X2 + 0.36 * X3  >= (18*7), \"Iron Constraint\"\n",
        "\n",
        "# Daily Potassium constraint: 370X1 + 220X2  + 190X4 + 150X5 >= 4700 mg\n",
        "prob += 370 * X1 + 220 * X2 + 190 * X4 + 150 * X5 >= (4700*7), \"Potassium Constraint\"\n",
        "\n",
        "# Solve the problem\n",
        "prob.solve()\n",
        "\n",
        "# Output the results\n",
        "print(f\"Status: {pulp.LpStatus[prob.status]}\")\n",
        "print(f\"Optimal servings:\")\n",
        "print(f\"Chicken (X1): {X1.varValue} servings\")\n",
        "print(f\"Almonds (X2): {X2.varValue} servings\")\n",
        "print(f\"Rice (X3): {X3.varValue} servings\")\n",
        "print(f\"Mole Sauce (X4): {X4.varValue} servings\")\n",
        "print(f\"Greek Yogurt (X5): {X5.varValue} servings\")\n",
        "print(f\"Total Cost: ${pulp.value(prob.objective):.2f}\")\n"
      ]
    },
    {
      "cell_type": "code",
      "source": [],
      "metadata": {
        "id": "bSAt7LXZ2GZf"
      },
      "execution_count": 6,
      "outputs": []
    }
  ]
}